{
 "cells": [
  {
   "cell_type": "code",
   "execution_count": 5,
   "id": "1952f19b-7f10-4ea3-bac5-3049892d9440",
   "metadata": {},
   "outputs": [],
   "source": [
    "from pathlib import Path\n",
    "import h5py as h5\n",
    "import numpy as np\n",
    "from matplotlib import pyplot as plt"
   ]
  },
  {
   "cell_type": "code",
   "execution_count": 6,
   "id": "5187c013-be57-4764-a92f-fa26d3ffa049",
   "metadata": {},
   "outputs": [],
   "source": [
    "def get_iterate(path=Path(\"examples/output/parareal/\"), n=0):\n",
    "    files = path.glob(f\"fine-{n:04}-*.h5\")\n",
    "    \n",
    "    def read_snap(filename):\n",
    "        with h5.File(filename, \"r\") as f_in:\n",
    "            n = f_in[\"data\"].attrs[\"n\"]\n",
    "            t0 = f_in[\"data\"].attrs[\"t0\"]\n",
    "            t1 = f_in[\"data\"].attrs[\"t1\"]\n",
    "            t = np.linspace(t0, t1, n + 1)\n",
    "            data = f_in[\"data\"][:]\n",
    "            return t, data\n",
    "        \n",
    "    snaps = [read_snap(f) for f in sorted(files)]\n",
    "    t = np.concatenate([s[0] for s in snaps], axis=0)\n",
    "    x = np.concatenate([s[1] for s in snaps], axis=0)\n",
    "    return t, x"
   ]
  },
  {
   "cell_type": "code",
   "execution_count": 7,
   "id": "38578e5e-0278-4897-af22-9926613b536a",
   "metadata": {},
   "outputs": [],
   "source": [
    "t_euler, x_euler = get_iterate(path=Path(\"examples/output/euler/\"))"
   ]
  },
  {
   "cell_type": "code",
   "execution_count": 13,
   "id": "cc8de107-d764-4975-a10c-378e5ba783e7",
   "metadata": {},
   "outputs": [
    {
     "data": {
      "text/plain": [
       "[<matplotlib.lines.Line2D at 0x7f8e5ef15450>]"
      ]
     },
     "execution_count": 13,
     "metadata": {},
     "output_type": "execute_result"
    },
    {
     "data": {
      "image/png": "[encoded data removed]",
      "text/plain": [
       "<Figure size 432x288 with 1 Axes>"
      ]
     },
     "metadata": {
      "needs_background": "light"
     },
     "output_type": "display_data"
    }
   ],
   "source": [
    "t, x = get_iterate(n=14)\n",
    "plt.plot(t, x[:,0]+0.01)\n",
    "plt.plot(t_euler, x_euler[:,0])"
   ]
  },
  {
   "cell_type": "code",
   "execution_count": null,
   "id": "c749d1d2-9bfa-4dc0-84fc-4df8fad9d823",
   "metadata": {},
   "outputs": [],
   "source": []
  }
 ],
 "metadata": {
  "kernelspec": {
   "display_name": "Python 3 (ipykernel)",
   "language": "python",
   "name": "python3"
  },
  "language_info": {
   "codemirror_mode": {
    "name": "ipython",
    "version": 3
   },
   "file_extension": ".py",
   "mimetype": "text/x-python",
   "name": "python",
   "nbconvert_exporter": "python",
   "pygments_lexer": "ipython3",
   "version": "3.10.6"
  }
 },
 "nbformat": 4,
 "nbformat_minor": 5
}
